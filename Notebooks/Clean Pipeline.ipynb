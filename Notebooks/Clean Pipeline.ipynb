{
 "cells": [
  {
   "cell_type": "code",
   "execution_count": 405,
   "metadata": {},
   "outputs": [],
   "source": [
    "import pandas as pd\n",
    "import matplotlib.pyplot as plt\n",
    "import numpy as np\n",
    "import numpy.ma as ma\n",
    "import yfinance as yf"
   ]
  },
  {
   "cell_type": "markdown",
   "metadata": {},
   "source": [
    "# Auxiliary Functions"
   ]
  },
  {
   "cell_type": "code",
   "execution_count": null,
   "metadata": {},
   "outputs": [],
   "source": [
    "def computeBeta(df_portfolio_returns, df_ibov):\n",
    "\n",
    "    first_valid_idx = returns.iloc[:, 1:241].apply(lambda x: df_portfolio_returns.iloc[:, 1:241].columns.get_loc(x.first_valid_index()), axis=1).values\n",
    "    last_valid_idx = returns.iloc[:, 1:241].apply(lambda x: df_portfolio_returns.iloc[:, 1:241].columns.get_loc(x.last_valid_index()), axis=1).values\n",
    "\n",
    "\n",
    "    betas = []\n",
    "    # Get Beta for each row\n",
    "    for i, row in df_portfolio_returns.iterrows():\n",
    "        corr_e_m = np.corrcoef(ma.masked_invalid(row[first_valid_idx[i]+1:last_valid_idx[i]+1].astype(float)), ma.masked_invalid(df_ibov[first_valid_idx[i]:last_valid_idx[i]]))[0][1]\n",
    "        std_e = np.std(returns.iloc[i, first_valid_idx[i]:last_valid_idx[i]].astype(float))\n",
    "        std_m = np.std(df_ibov[first_valid_idx[i]:last_valid_idx[i]])\n",
    "        beta = corr_e_m*std_e/std_m\n",
    "        betas.append(beta)\n",
    "    return betas"
   ]
  },
  {
   "cell_type": "markdown",
   "metadata": {},
   "source": [
    "# Data Cleaning and Feature Engineering"
   ]
  },
  {
   "cell_type": "code",
   "execution_count": 406,
   "metadata": {},
   "outputs": [
    {
     "name": "stdout",
     "output_type": "stream",
     "text": [
      "[*********************100%***********************]  1 of 1 completed\n"
     ]
    }
   ],
   "source": [
    "df = pd.read_csv('investment_fund_data_10M.csv').iloc[:,1:]\n",
    "class_fund = pd.read_csv('fundo_classe.csv', sep = ';', encoding = 'ISO-8859-1')\n",
    "selic = pd.read_csv(\"selic_historica.csv\")\n",
    "ibov = yf.download(\"^BVSP\", start=\"2002-11-30\", end=\"2022-12-3\")"
   ]
  },
  {
   "cell_type": "code",
   "execution_count": 407,
   "metadata": {},
   "outputs": [],
   "source": [
    "# Get percent changes in IBOV\n",
    "ibov.reset_index(inplace = True)\n",
    "ibov['year_month'] = ibov['Date'].dt.to_period('M')\n",
    "ibov = ibov.groupby('year_month')['Open'].mean()\n",
    "# Get month/month percent dufference\n",
    "ibov = ibov.pct_change(periods=1)"
   ]
  },
  {
   "cell_type": "code",
   "execution_count": 408,
   "metadata": {},
   "outputs": [],
   "source": [
    "# Filter for values between Dec/2002 to Dec/2022\n",
    "df = df.drop(['2002-01', '2002-02', '2002-03', '2002-04', '2002-05', '2002-06', '2002-07', '2002-08',\n",
    "             '2002-09', '2002-10', '2002-11'], axis = 1) # '2002-01', "
   ]
  },
  {
   "cell_type": "code",
   "execution_count": 409,
   "metadata": {},
   "outputs": [],
   "source": [
    "# Keep only funds that did not change their classification and that are fundos de ação\n",
    "class_fund.drop_duplicates('CNPJ_FUNDO', keep = False, inplace = True)\n",
    "class_fund = class_fund[class_fund.CLASSE == 'Fundo de Ações']"
   ]
  },
  {
   "cell_type": "code",
   "execution_count": 410,
   "metadata": {},
   "outputs": [],
   "source": [
    "# Merge with investment_fund_data\n",
    "fundos = df.merge(class_fund[['CNPJ_FUNDO']], on = 'CNPJ_FUNDO')\n",
    "fundos.set_index('CNPJ_FUNDO',  inplace = True)"
   ]
  },
  {
   "cell_type": "code",
   "execution_count": 411,
   "metadata": {},
   "outputs": [],
   "source": [
    "# Correct weird effect where some funds have results for 12-2002 but not again for some time\n",
    "fundos.loc[fundos['2003-01'].isna(), '2002-12'] = np.NaN"
   ]
  },
  {
   "cell_type": "code",
   "execution_count": 412,
   "metadata": {},
   "outputs": [],
   "source": [
    "# Find the first and last column with a non-null value for each row\n",
    "fundos['first_value'] = pd.to_datetime(fundos.notnull().idxmax(axis=1))\n",
    "fundos['last_value'] = pd.to_datetime(fundos.notnull().idxmin(axis=1))\n",
    "\n",
    "# Get first and last quotes\n",
    "fundos['first_quote'] = fundos.iloc[:,:-2].apply(lambda x: x[x > 0].at[x[x > 0].first_valid_index()], axis=1)\n",
    "fundos['last_quote'] = fundos.iloc[:,:-3].apply(lambda x: x[x > 0].at[x[x > 0].last_valid_index()], axis=1)\n",
    "fundos[\"absolute_change\"] = fundos['last_quote']/fundos['first_quote'] - 1\n",
    "\n",
    "\n",
    "# Find the last column with a non-null value for each row, starting from the right\n",
    "fundos['last_value_from_right'] = fundos.iloc[:, :241].loc[:, ::-1].notnull().idxmin(axis=1)\n",
    "fundos['first_value_from_right'] = fundos.iloc[:, :241].loc[:, ::-1].notnull().idxmax(axis=1)\n",
    "\n",
    "# Convert the first_value and last_value columns to datetime\n",
    "#fundos['first_value'] = pd.to_datetime(fundos['first_value'])\n",
    "#fundos['last_value'] = pd.to_datetime(fundos['last_value'])\n",
    "\n",
    "# Replace the last_value for rows where it is equal to 2002-12-01 with the last_value_from_right\n",
    "fundos.loc[fundos['last_value'] == pd.to_datetime('2002-12-01'), 'last_value'] = fundos['first_value_from_right']\n",
    "fundos['last_value'] = pd.to_datetime(fundos['last_value'])\n",
    "\n",
    "# Drop the last_value_from_right column\n",
    "fundos.drop(['last_value_from_right', 'first_value_from_right'], axis=1, inplace=True)"
   ]
  },
  {
   "cell_type": "code",
   "execution_count": 414,
   "metadata": {},
   "outputs": [],
   "source": [
    "# Filter for funds that existed prior to 2012-12-01 and existed for longer than one year\n",
    "#fundos = fundos[fundos.first_value <= pd.to_datetime('2012-12-01')] - should I remove these guys?\n",
    "fundos['months_existing'] = ((fundos['last_value'] - fundos['first_value'])/np.timedelta64(1, 'M')).astype(int)\n",
    "fundos = fundos[fundos['months_existing'] > 12]"
   ]
  },
  {
   "cell_type": "code",
   "execution_count": 415,
   "metadata": {},
   "outputs": [],
   "source": [
    "# Compute average Risk Free Rate and Market Rate while the fund existed\n",
    "fundos = fundos.reset_index()\n",
    "selic['Date'] = pd.to_datetime(selic['Date'])\n",
    "selic.set_index('Date', inplace = True)\n",
    "selic_averages = []\n",
    "ibov_averages = []\n",
    "for index, row in fundos.iterrows():\n",
    "    start_date = row['first_value']\n",
    "    end_date = row['last_value']\n",
    "    average_selic = selic.loc[start_date:end_date].mean().Rate\n",
    "    selic_averages.append(average_selic)\n",
    "    average_ibov = pd.DataFrame(ibov).loc[start_date:end_date].mean().Open\n",
    "    ibov_averages.append(average_ibov)\n",
    "fundos[\"mean_monthly_selic\"] = selic_averages\n",
    "fundos[\"mean_monthly_ibov\"] = ibov_averages\n"
   ]
  },
  {
   "cell_type": "code",
   "execution_count": 416,
   "metadata": {},
   "outputs": [],
   "source": [
    "# Compute Mean, Std and Sharpe of each fund\n",
    "fundos = fundos.set_index('CNPJ_FUNDO')\n",
    "returns = fundos.iloc[:, :241]/fundos.iloc[:, :241].shift(1, axis = 1)-1 \n",
    "returns.replace([np.inf, -np.inf], np.NaN, inplace=True)\n",
    "returns = returns.clip(upper=2) # Caping because of data entry errors\n",
    "returns['mean_monthly_return'] = returns.mean(axis = 1, skipna = True, numeric_only = True)\n",
    "returns['std_monthly_return'] = returns.std(axis = 1, skipna = True)\n",
    "#returns['sharpe'] = returns['mean_return']/returns['std_return']\n",
    "fundos.reset_index(inplace = True)\n",
    "returns.reset_index(inplace = True)\n",
    "fundos = fundos.merge(returns[['CNPJ_FUNDO', 'mean_monthly_return', 'std_monthly_return']], on = 'CNPJ_FUNDO') # 2 funds that had no change over time drop out\n",
    "fundos['sharpe'] = (fundos['mean_monthly_return'] - fundos['mean_monthly_selic'])/fundos['std_monthly_return'] # check this"
   ]
  },
  {
   "cell_type": "code",
   "execution_count": 420,
   "metadata": {},
   "outputs": [],
   "source": [
    "returns['beta'] = computeBeta(returns, ibov)"
   ]
  },
  {
   "cell_type": "code",
   "execution_count": 421,
   "metadata": {},
   "outputs": [],
   "source": [
    "# Investigate why nulls intervalues happen later\n",
    "returns = returns[~returns.beta.isna()]"
   ]
  },
  {
   "cell_type": "code",
   "execution_count": 422,
   "metadata": {},
   "outputs": [],
   "source": [
    "# Merge Returns dataframe to fundos and compute alpha for each equity fund\n",
    "fundos = fundos.merge(returns[['CNPJ_FUNDO', 'beta']], on = 'CNPJ_FUNDO')\n"
   ]
  },
  {
   "cell_type": "code",
   "execution_count": 423,
   "metadata": {},
   "outputs": [],
   "source": [
    "fundos['alpha'] = fundos['mean_monthly_return'] - fundos['mean_monthly_selic'] - fundos['beta']*(fundos['mean_monthly_ibov'] - fundos['mean_monthly_selic'])"
   ]
  },
  {
   "cell_type": "markdown",
   "metadata": {},
   "source": [
    "# Survival Analysis"
   ]
  },
  {
   "cell_type": "markdown",
   "metadata": {},
   "source": [
    "## Survivor Function"
   ]
  },
  {
   "cell_type": "code",
   "execution_count": 550,
   "metadata": {},
   "outputs": [],
   "source": [
    "from lifelines import KaplanMeierFitter\n",
    "kmf = KaplanMeierFitter()"
   ]
  },
  {
   "cell_type": "code",
   "execution_count": 551,
   "metadata": {},
   "outputs": [],
   "source": [
    "fundos['Exited'] = fundos['last_value'] < pd.to_datetime('2022-11-01')"
   ]
  },
  {
   "cell_type": "code",
   "execution_count": 552,
   "metadata": {},
   "outputs": [
    {
     "data": {
      "text/plain": [
       "<lifelines.KaplanMeierFitter:\"Kaplan-Meier Estimate\", fitted with 3153 total observations, 2157 right-censored observations>"
      ]
     },
     "execution_count": 552,
     "metadata": {},
     "output_type": "execute_result"
    }
   ],
   "source": [
    "kmf.fit(fundos[\"months_existing\"], fundos['Exited'], label=\"Kaplan-Meier Estimate\")"
   ]
  },
  {
   "cell_type": "code",
   "execution_count": 553,
   "metadata": {},
   "outputs": [
    {
     "data": {
      "text/plain": [
       "Text(0.5, 0, \"Fund's Age (months)\")"
      ]
     },
     "execution_count": 553,
     "metadata": {},
     "output_type": "execute_result"
    },
    {
     "data": {
      "image/png": "[encoded data removed]",
      "text/plain": [
       "<Figure size 576x396 with 1 Axes>"
      ]
     },
     "metadata": {},
     "output_type": "display_data"
    }
   ],
   "source": [
    "kmf.plot()\n",
    "plt.ylabel(\"Probability of Survival\")\n",
    "plt.xlabel(\"Fund's Age (months)\")"
   ]
  },
  {
   "cell_type": "code",
   "execution_count": 554,
   "metadata": {},
   "outputs": [
    {
     "data": {
      "image/png": "[encoded data removed]",
      "text/plain": [
       "<Figure size 576x396 with 1 Axes>"
      ]
     },
     "metadata": {},
     "output_type": "display_data"
    }
   ],
   "source": [
    "fundos[\"performance_group\"] = pd.cut(fundos[\"mean_monthly_return\"], bins = 2, labels = [\"Low Perfomer\", \"High Performer\"])\n",
    "T = fundos['months_existing']\n",
    "E = fundos['Exited']\n",
    "ax = plt.subplot(111)\n",
    "for perf_group in fundos['performance_group'].unique():\n",
    "    \n",
    "    flag = fundos['performance_group'] == perf_group\n",
    "    \n",
    "    kmf.fit(T[flag], event_observed=E[flag], label=perf_group)\n",
    "    kmf.plot(ax=ax)\n",
    "\n",
    "plt.title(\"Survival curves by Fund Performance\");"
   ]
  },
  {
   "cell_type": "code",
   "execution_count": 57,
   "metadata": {},
   "outputs": [
    {
     "data": {
      "text/plain": [
       "0     0.000144\n",
       "1    -0.002881\n",
       "2    -0.024581\n",
       "3      0.00277\n",
       "4     0.003071\n",
       "5    -0.105755\n",
       "6    -0.018469\n",
       "7     0.000861\n",
       "8    -0.002299\n",
       "9     0.003026\n",
       "10    0.004817\n",
       "11   -0.000903\n",
       "12   -0.000085\n",
       "13    0.005137\n",
       "14    0.001044\n",
       "15    0.002042\n",
       "16          --\n",
       "17    0.002627\n",
       "18    0.004715\n",
       "19    0.001236\n",
       "Name: alpha, dtype: object"
      ]
     },
     "execution_count": 57,
     "metadata": {},
     "output_type": "execute_result"
    }
   ],
   "source": [
    "fundos['alpha'].head(20)"
   ]
  },
  {
   "cell_type": "code",
   "execution_count": 43,
   "metadata": {},
   "outputs": [
    {
     "name": "stderr",
     "output_type": "stream",
     "text": [
      "C:\\Users\\mathe\\anaconda3\\lib\\site-packages\\lifelines\\utils\\__init__.py:1187: UserWarning: Attempting to convert an unexpected datatype 'object' to float. Suggestion: 1) use `lifelines.utils.datetimes_to_durations` to do conversions or 2) manually convert to floats/booleans.\n",
      "  warnings.warn(warning_text, UserWarning)\n",
      "C:\\Users\\mathe\\anaconda3\\lib\\site-packages\\lifelines\\utils\\__init__.py:1189: UserWarning: Warning: converting a masked element to nan.\n",
      "  infs = np.isinf(df_or_array.astype(float))\n"
     ]
    },
    {
     "ename": "ValueError",
     "evalue": "Values must be numeric: no strings, datetimes, objects, etc.",
     "output_type": "error",
     "traceback": [
      "\u001b[1;31m---------------------------------------------------------------------------\u001b[0m",
      "\u001b[1;31mTypeError\u001b[0m                                 Traceback (most recent call last)",
      "\u001b[1;32m~\\anaconda3\\lib\\site-packages\\lifelines\\utils\\__init__.py\u001b[0m in \u001b[0;36mpass_for_numeric_dtypes_or_raise_array\u001b[1;34m(x)\u001b[0m\n\u001b[0;32m    962\u001b[0m         \u001b[1;32melse\u001b[0m\u001b[1;33m:\u001b[0m\u001b[1;33m\u001b[0m\u001b[1;33m\u001b[0m\u001b[0m\n\u001b[1;32m--> 963\u001b[1;33m             \u001b[0mv\u001b[0m \u001b[1;33m=\u001b[0m \u001b[0mpd\u001b[0m\u001b[1;33m.\u001b[0m\u001b[0mto_numeric\u001b[0m\u001b[1;33m(\u001b[0m\u001b[0mnp\u001b[0m\u001b[1;33m.\u001b[0m\u001b[0masarray\u001b[0m\u001b[1;33m(\u001b[0m\u001b[0mx\u001b[0m\u001b[1;33m)\u001b[0m\u001b[1;33m.\u001b[0m\u001b[0msqueeze\u001b[0m\u001b[1;33m(\u001b[0m\u001b[1;33m)\u001b[0m\u001b[1;33m)\u001b[0m\u001b[1;33m\u001b[0m\u001b[1;33m\u001b[0m\u001b[0m\n\u001b[0m\u001b[0;32m    964\u001b[0m \u001b[1;33m\u001b[0m\u001b[0m\n",
      "\u001b[1;32m~\\anaconda3\\lib\\site-packages\\pandas\\core\\tools\\numeric.py\u001b[0m in \u001b[0;36mto_numeric\u001b[1;34m(arg, errors, downcast)\u001b[0m\n\u001b[0;32m    184\u001b[0m         \u001b[1;32mtry\u001b[0m\u001b[1;33m:\u001b[0m\u001b[1;33m\u001b[0m\u001b[1;33m\u001b[0m\u001b[0m\n\u001b[1;32m--> 185\u001b[1;33m             values, _ = lib.maybe_convert_numeric(\n\u001b[0m\u001b[0;32m    186\u001b[0m                 \u001b[0mvalues\u001b[0m\u001b[1;33m,\u001b[0m \u001b[0mset\u001b[0m\u001b[1;33m(\u001b[0m\u001b[1;33m)\u001b[0m\u001b[1;33m,\u001b[0m \u001b[0mcoerce_numeric\u001b[0m\u001b[1;33m=\u001b[0m\u001b[0mcoerce_numeric\u001b[0m\u001b[1;33m\u001b[0m\u001b[1;33m\u001b[0m\u001b[0m\n",
      "\u001b[1;32m~\\anaconda3\\lib\\site-packages\\pandas\\_libs\\lib.pyx\u001b[0m in \u001b[0;36mpandas._libs.lib.maybe_convert_numeric\u001b[1;34m()\u001b[0m\n",
      "\u001b[1;31mTypeError\u001b[0m: len() of unsized object",
      "\nDuring handling of the above exception, another exception occurred:\n",
      "\u001b[1;31mValueError\u001b[0m                                Traceback (most recent call last)",
      "\u001b[1;32m<ipython-input-43-81b07c53c0f4>\u001b[0m in \u001b[0;36m<module>\u001b[1;34m\u001b[0m\n\u001b[1;32m----> 1\u001b[1;33m \u001b[0mkmf\u001b[0m\u001b[1;33m.\u001b[0m\u001b[0mfit\u001b[0m\u001b[1;33m(\u001b[0m\u001b[0mfundos\u001b[0m\u001b[1;33m[\u001b[0m\u001b[1;34m\"alpha\"\u001b[0m\u001b[1;33m]\u001b[0m\u001b[1;33m,\u001b[0m \u001b[0mfundos\u001b[0m\u001b[1;33m[\u001b[0m\u001b[1;34m'Exited'\u001b[0m\u001b[1;33m]\u001b[0m\u001b[1;33m,\u001b[0m \u001b[0mlabel\u001b[0m\u001b[1;33m=\u001b[0m\u001b[1;34m\"Kaplan-Meier Estimate\"\u001b[0m\u001b[1;33m)\u001b[0m\u001b[1;33m\u001b[0m\u001b[1;33m\u001b[0m\u001b[0m\n\u001b[0m\u001b[0;32m      2\u001b[0m \u001b[0mkmf\u001b[0m\u001b[1;33m.\u001b[0m\u001b[0mplot\u001b[0m\u001b[1;33m(\u001b[0m\u001b[1;33m)\u001b[0m\u001b[1;33m\u001b[0m\u001b[1;33m\u001b[0m\u001b[0m\n\u001b[0;32m      3\u001b[0m \u001b[0mplt\u001b[0m\u001b[1;33m.\u001b[0m\u001b[0mylabel\u001b[0m\u001b[1;33m(\u001b[0m\u001b[1;34m\"Probability of Survival\"\u001b[0m\u001b[1;33m)\u001b[0m\u001b[1;33m\u001b[0m\u001b[1;33m\u001b[0m\u001b[0m\n\u001b[0;32m      4\u001b[0m \u001b[0mplt\u001b[0m\u001b[1;33m.\u001b[0m\u001b[0mxlabel\u001b[0m\u001b[1;33m(\u001b[0m\u001b[1;34m\"Fund's Age (months)\"\u001b[0m\u001b[1;33m)\u001b[0m\u001b[1;33m\u001b[0m\u001b[1;33m\u001b[0m\u001b[0m\n",
      "\u001b[1;32m~\\anaconda3\\lib\\site-packages\\lifelines\\utils\\__init__.py\u001b[0m in \u001b[0;36mf\u001b[1;34m(model, *args, **kwargs)\u001b[0m\n\u001b[0;32m     54\u001b[0m         \u001b[1;32mdef\u001b[0m \u001b[0mf\u001b[0m\u001b[1;33m(\u001b[0m\u001b[0mmodel\u001b[0m\u001b[1;33m,\u001b[0m \u001b[1;33m*\u001b[0m\u001b[0margs\u001b[0m\u001b[1;33m,\u001b[0m \u001b[1;33m**\u001b[0m\u001b[0mkwargs\u001b[0m\u001b[1;33m)\u001b[0m\u001b[1;33m:\u001b[0m\u001b[1;33m\u001b[0m\u001b[1;33m\u001b[0m\u001b[0m\n\u001b[0;32m     55\u001b[0m             \u001b[0mcls\u001b[0m\u001b[1;33m.\u001b[0m\u001b[0mset_censoring_type\u001b[0m\u001b[1;33m(\u001b[0m\u001b[0mmodel\u001b[0m\u001b[1;33m,\u001b[0m \u001b[0mcls\u001b[0m\u001b[1;33m.\u001b[0m\u001b[0mRIGHT\u001b[0m\u001b[1;33m)\u001b[0m\u001b[1;33m\u001b[0m\u001b[1;33m\u001b[0m\u001b[0m\n\u001b[1;32m---> 56\u001b[1;33m             \u001b[1;32mreturn\u001b[0m \u001b[0mfunction\u001b[0m\u001b[1;33m(\u001b[0m\u001b[0mmodel\u001b[0m\u001b[1;33m,\u001b[0m \u001b[1;33m*\u001b[0m\u001b[0margs\u001b[0m\u001b[1;33m,\u001b[0m \u001b[1;33m**\u001b[0m\u001b[0mkwargs\u001b[0m\u001b[1;33m)\u001b[0m\u001b[1;33m\u001b[0m\u001b[1;33m\u001b[0m\u001b[0m\n\u001b[0m\u001b[0;32m     57\u001b[0m \u001b[1;33m\u001b[0m\u001b[0m\n\u001b[0;32m     58\u001b[0m         \u001b[1;32mreturn\u001b[0m \u001b[0mf\u001b[0m\u001b[1;33m\u001b[0m\u001b[1;33m\u001b[0m\u001b[0m\n",
      "\u001b[1;32m~\\anaconda3\\lib\\site-packages\\lifelines\\fitters\\kaplan_meier_fitter.py\u001b[0m in \u001b[0;36mfit\u001b[1;34m(self, durations, event_observed, timeline, entry, label, alpha, ci_labels, weights, fit_options)\u001b[0m\n\u001b[0;32m    125\u001b[0m         \"\"\"\n\u001b[0;32m    126\u001b[0m \u001b[1;33m\u001b[0m\u001b[0m\n\u001b[1;32m--> 127\u001b[1;33m         \u001b[1;32mreturn\u001b[0m \u001b[0mself\u001b[0m\u001b[1;33m.\u001b[0m\u001b[0m_fit\u001b[0m\u001b[1;33m(\u001b[0m\u001b[0mdurations\u001b[0m\u001b[1;33m,\u001b[0m \u001b[0mevent_observed\u001b[0m\u001b[1;33m,\u001b[0m \u001b[0mtimeline\u001b[0m\u001b[1;33m,\u001b[0m \u001b[0mentry\u001b[0m\u001b[1;33m,\u001b[0m \u001b[0mlabel\u001b[0m\u001b[1;33m,\u001b[0m \u001b[0malpha\u001b[0m\u001b[1;33m,\u001b[0m \u001b[0mci_labels\u001b[0m\u001b[1;33m,\u001b[0m \u001b[0mweights\u001b[0m\u001b[1;33m)\u001b[0m\u001b[1;33m\u001b[0m\u001b[1;33m\u001b[0m\u001b[0m\n\u001b[0m\u001b[0;32m    128\u001b[0m \u001b[1;33m\u001b[0m\u001b[0m\n\u001b[0;32m    129\u001b[0m     \u001b[1;33m@\u001b[0m\u001b[0mCensoringType\u001b[0m\u001b[1;33m.\u001b[0m\u001b[0minterval_censoring\u001b[0m\u001b[1;33m\u001b[0m\u001b[1;33m\u001b[0m\u001b[0m\n",
      "\u001b[1;32m~\\anaconda3\\lib\\site-packages\\lifelines\\fitters\\kaplan_meier_fitter.py\u001b[0m in \u001b[0;36m_fit\u001b[1;34m(self, durations, event_observed, timeline, entry, label, alpha, ci_labels, weights)\u001b[0m\n\u001b[0;32m    352\u001b[0m         \u001b[0msecondary_estimate_name\u001b[0m \u001b[1;33m=\u001b[0m \u001b[1;34m\"cumulative_density_\"\u001b[0m\u001b[1;33m\u001b[0m\u001b[1;33m\u001b[0m\u001b[0m\n\u001b[0;32m    353\u001b[0m \u001b[1;33m\u001b[0m\u001b[0m\n\u001b[1;32m--> 354\u001b[1;33m         (self.durations, self.event_observed, self.timeline, self.entry, self.event_table, self.weights) = _preprocess_inputs(\n\u001b[0m\u001b[0;32m    355\u001b[0m             \u001b[0mdurations\u001b[0m\u001b[1;33m,\u001b[0m \u001b[0mevent_observed\u001b[0m\u001b[1;33m,\u001b[0m \u001b[0mtimeline\u001b[0m\u001b[1;33m,\u001b[0m \u001b[0mentry\u001b[0m\u001b[1;33m,\u001b[0m \u001b[0mweights\u001b[0m\u001b[1;33m\u001b[0m\u001b[1;33m\u001b[0m\u001b[0m\n\u001b[0;32m    356\u001b[0m         )\n",
      "\u001b[1;32m~\\anaconda3\\lib\\site-packages\\lifelines\\utils\\__init__.py\u001b[0m in \u001b[0;36m_preprocess_inputs\u001b[1;34m(durations, event_observed, timeline, entry, weights)\u001b[0m\n\u001b[0;32m    904\u001b[0m \u001b[1;33m\u001b[0m\u001b[0m\n\u001b[0;32m    905\u001b[0m     \u001b[0mn\u001b[0m \u001b[1;33m=\u001b[0m \u001b[0mlen\u001b[0m\u001b[1;33m(\u001b[0m\u001b[0mdurations\u001b[0m\u001b[1;33m)\u001b[0m\u001b[1;33m\u001b[0m\u001b[1;33m\u001b[0m\u001b[0m\n\u001b[1;32m--> 906\u001b[1;33m     \u001b[0mdurations\u001b[0m \u001b[1;33m=\u001b[0m \u001b[0mnp\u001b[0m\u001b[1;33m.\u001b[0m\u001b[0masarray\u001b[0m\u001b[1;33m(\u001b[0m\u001b[0mpass_for_numeric_dtypes_or_raise_array\u001b[0m\u001b[1;33m(\u001b[0m\u001b[0mdurations\u001b[0m\u001b[1;33m)\u001b[0m\u001b[1;33m)\u001b[0m\u001b[1;33m.\u001b[0m\u001b[0mreshape\u001b[0m\u001b[1;33m(\u001b[0m\u001b[1;33m(\u001b[0m\u001b[0mn\u001b[0m\u001b[1;33m,\u001b[0m\u001b[1;33m)\u001b[0m\u001b[1;33m)\u001b[0m\u001b[1;33m\u001b[0m\u001b[1;33m\u001b[0m\u001b[0m\n\u001b[0m\u001b[0;32m    907\u001b[0m \u001b[1;33m\u001b[0m\u001b[0m\n\u001b[0;32m    908\u001b[0m     \u001b[1;32mif\u001b[0m \u001b[0mweights\u001b[0m \u001b[1;32mis\u001b[0m \u001b[1;32mNone\u001b[0m\u001b[1;33m:\u001b[0m\u001b[1;33m\u001b[0m\u001b[1;33m\u001b[0m\u001b[0m\n",
      "\u001b[1;32m~\\anaconda3\\lib\\site-packages\\lifelines\\utils\\__init__.py\u001b[0m in \u001b[0;36mpass_for_numeric_dtypes_or_raise_array\u001b[1;34m(x)\u001b[0m\n\u001b[0;32m    968\u001b[0m \u001b[1;33m\u001b[0m\u001b[0m\n\u001b[0;32m    969\u001b[0m     \u001b[1;32mexcept\u001b[0m\u001b[1;33m:\u001b[0m\u001b[1;33m\u001b[0m\u001b[1;33m\u001b[0m\u001b[0m\n\u001b[1;32m--> 970\u001b[1;33m         \u001b[1;32mraise\u001b[0m \u001b[0mValueError\u001b[0m\u001b[1;33m(\u001b[0m\u001b[1;34m\"Values must be numeric: no strings, datetimes, objects, etc.\"\u001b[0m\u001b[1;33m)\u001b[0m\u001b[1;33m\u001b[0m\u001b[1;33m\u001b[0m\u001b[0m\n\u001b[0m\u001b[0;32m    971\u001b[0m \u001b[1;33m\u001b[0m\u001b[0m\n\u001b[0;32m    972\u001b[0m \u001b[1;33m\u001b[0m\u001b[0m\n",
      "\u001b[1;31mValueError\u001b[0m: Values must be numeric: no strings, datetimes, objects, etc."
     ]
    }
   ],
   "source": [
    "kmf.fit(fundos[\"alpha\"], fundos['Exited'], label=\"Kaplan-Meier Estimate\")\n",
    "kmf.plot()\n",
    "plt.ylabel(\"Probability of Survival\")\n",
    "plt.xlabel(\"Fund's Age (months)\")"
   ]
  },
  {
   "cell_type": "markdown",
   "metadata": {},
   "source": [
    "## Hazard Function"
   ]
  },
  {
   "cell_type": "code",
   "execution_count": 919,
   "metadata": {},
   "outputs": [],
   "source": [
    "from lifelines import NelsonAalenFitter"
   ]
  },
  {
   "cell_type": "code",
   "execution_count": 920,
   "metadata": {},
   "outputs": [
    {
     "data": {
      "text/plain": [
       "<AxesSubplot:xlabel='timeline'>"
      ]
     },
     "execution_count": 920,
     "metadata": {},
     "output_type": "execute_result"
    },
    {
     "data": {
      "image/png": "[encoded data removed]",
      "text/plain": [
       "<Figure size 432x288 with 1 Axes>"
      ]
     },
     "metadata": {
      "needs_background": "light"
     },
     "output_type": "display_data"
    }
   ],
   "source": [
    "naf = NelsonAalenFitter()\n",
    "naf.fit(fundos[\"months_existing\"], event_observed=fundos['Exited'])\n",
    "\n",
    "naf.plot()"
   ]
  },
  {
   "cell_type": "markdown",
   "metadata": {},
   "source": [
    "## Correlation between Months of Existence and return"
   ]
  },
  {
   "cell_type": "code",
   "execution_count": null,
   "metadata": {},
   "outputs": [],
   "source": [
    "# Correlation between months_existing and sharpe\n",
    "fundos['bin_months_existing'] = pd.cut(fundos['months_existing'], \n",
    "                                       bins = [0, 50, 100, 150, 200, 250],\n",
    "                                       labels = ['50 or less', '50 to 100', '100 to 150', '150 to 200', '200 to 250'])"
   ]
  },
  {
   "cell_type": "code",
   "execution_count": 921,
   "metadata": {},
   "outputs": [
    {
     "data": {
      "text/plain": [
       "Text(0.5, 0, 'Months of Existence')"
      ]
     },
     "execution_count": 921,
     "metadata": {},
     "output_type": "execute_result"
    },
    {
     "data": {
      "image/png": "[encoded data removed]",
      "text/plain": [
       "<Figure size 432x288 with 1 Axes>"
      ]
     },
     "metadata": {
      "needs_background": "light"
     },
     "output_type": "display_data"
    }
   ],
   "source": [
    "fundos.groupby('bin_months_existing')['mean_monthly_return'].mean().plot()\n",
    "plt.ylabel('Average Monthly Return')\n",
    "plt.xlabel('Months of Existence')"
   ]
  },
  {
   "cell_type": "markdown",
   "metadata": {},
   "source": [
    "# Normality Tests"
   ]
  },
  {
   "cell_type": "markdown",
   "metadata": {},
   "source": [
    "## Visual Comparison"
   ]
  },
  {
   "cell_type": "code",
   "execution_count": 922,
   "metadata": {},
   "outputs": [],
   "source": [
    "mean = fundos['sharpe'].mean()  # mudar pra ibov\n",
    "std = fundos['sharpe'].std() # mudar pra ibov\n",
    "x = np.random.normal(mean, std, 1000)"
   ]
  },
  {
   "cell_type": "code",
   "execution_count": 923,
   "metadata": {},
   "outputs": [
    {
     "data": {
      "text/plain": [
       "<matplotlib.legend.Legend at 0x27c25c96340>"
      ]
     },
     "execution_count": 923,
     "metadata": {},
     "output_type": "execute_result"
    },
    {
     "data": {
      "image/png": "[encoded data removed]",
      "text/plain": [
       "<Figure size 432x288 with 1 Axes>"
      ]
     },
     "metadata": {
      "needs_background": "light"
     },
     "output_type": "display_data"
    }
   ],
   "source": [
    "# Distribution of Sharpe\n",
    "fundos['sharpe'].plot.kde(legend = 'Empirical Distribution')\n",
    "pd.Series(x).plot.kde(legend = 'Normal Distribution')\n",
    "#plt.hist(x, bins = 10000)\n",
    "plt.legend()"
   ]
  },
  {
   "cell_type": "markdown",
   "metadata": {},
   "source": [
    "## QQ Plot"
   ]
  },
  {
   "cell_type": "code",
   "execution_count": 924,
   "metadata": {},
   "outputs": [
    {
     "data": {
      "image/png": "[encoded data removed]",
      "text/plain": [
       "<Figure size 432x288 with 1 Axes>"
      ]
     },
     "metadata": {
      "needs_background": "light"
     },
     "output_type": "display_data"
    }
   ],
   "source": [
    "import math\n",
    "from scipy.stats import lognorm\n",
    "import statsmodels.api as sm\n",
    "\n",
    "#make this example reproducible\n",
    "np.random.seed(1)\n",
    "\n",
    "#generate dataset that contains 1000 log-normal distributed values\n",
    "#lognorm_dataset = lognorm.rvs(s=.5, scale=math.exp(1), size=1000)\n",
    "\n",
    "#create Q-Q plot with 45-degree line added to plot\n",
    "fig = sm.qqplot(fundos['sharpe'], line='45')\n",
    "\n",
    "plt.show()"
   ]
  },
  {
   "cell_type": "markdown",
   "metadata": {},
   "source": [
    "## Shapiro-Wilk Test"
   ]
  },
  {
   "cell_type": "code",
   "execution_count": 925,
   "metadata": {},
   "outputs": [],
   "source": [
    "from scipy.stats import shapiro "
   ]
  },
  {
   "cell_type": "code",
   "execution_count": 926,
   "metadata": {},
   "outputs": [
    {
     "data": {
      "text/plain": [
       "ShapiroResult(statistic=0.7388767004013062, pvalue=0.0)"
      ]
     },
     "execution_count": 926,
     "metadata": {},
     "output_type": "execute_result"
    }
   ],
   "source": [
    "shapiro(fundos['sharpe'])"
   ]
  },
  {
   "cell_type": "markdown",
   "metadata": {},
   "source": [
    "## KS Test"
   ]
  },
  {
   "cell_type": "code",
   "execution_count": 927,
   "metadata": {},
   "outputs": [],
   "source": [
    "from scipy.stats import kstest"
   ]
  },
  {
   "cell_type": "code",
   "execution_count": 928,
   "metadata": {},
   "outputs": [
    {
     "data": {
      "text/plain": [
       "KstestResult(statistic=0.5258648717511707, pvalue=0.0)"
      ]
     },
     "execution_count": 928,
     "metadata": {},
     "output_type": "execute_result"
    }
   ],
   "source": [
    "kstest(fundos['sharpe'], 'norm')"
   ]
  },
  {
   "cell_type": "code",
   "execution_count": 929,
   "metadata": {},
   "outputs": [],
   "source": [
    "# Are all funds in investment_fund_data in fundo_classe? No. 1264 CNPJs no investment_fund nao encontrados no fundo_classe. \n",
    "# Removed 6,011 funds because they either are not in fundo_classe or changed their classe over time\n",
    "# 3915 funds were removed because they were less than 10 years old"
   ]
  },
  {
   "cell_type": "code",
   "execution_count": 930,
   "metadata": {},
   "outputs": [],
   "source": [
    "# Why do some have NaNs and then have data again? Check funds that are inactive and remove them at that date\n",
    "# Plot funds that are dieing out (check that these indeed have lower performance)\n",
    "# Plot distribution of Sharpe, Return and Volatility\n",
    "# Normality test"
   ]
  },
  {
   "cell_type": "markdown",
   "metadata": {},
   "source": [
    "# Portfolio Simulation"
   ]
  },
  {
   "cell_type": "code",
   "execution_count": 217,
   "metadata": {},
   "outputs": [],
   "source": [
    "selected_stocks = \"BBDC3.SA ELET3.SA PETR3.SA VALE3.SA EMBR3.SA GGBR3.SA ITUB3.SA ABEV3.SA CMIG3.SA USIM3.SA ITSA3.SA OIBR3.SA VIVT3.SA\""
   ]
  },
  {
   "cell_type": "code",
   "execution_count": 280,
   "metadata": {},
   "outputs": [
    {
     "name": "stdout",
     "output_type": "stream",
     "text": [
      "[*********************100%***********************]  13 of 13 completed\n"
     ]
    }
   ],
   "source": [
    "# Retrieve data\n",
    "stocks = yf.download(selected_stocks, start=\"2002-11-29\", end=\"2022-12-01\") # 100 largest stocks in 2023\n",
    "\n",
    "# Normalize data\n",
    "stocks = stocks.div(stocks.iloc[0])\n",
    "\n",
    "# Fill NaNs for PETR3.SA with immediate previous value\n",
    "stocks = stocks.ffill()\n",
    "\n",
    "# Fix first date to avoid merge issues\n",
    "stocks = stocks.reset_index().replace({'2002-11-29':'2002-12-01'})#.set_index('Date')\n",
    "\n",
    "# Change to monthly aggregation level\n",
    "stocks = stocks[['Date', 'Adj Close']]\n",
    "stocks['month_year'] = stocks['Date'].dt.to_period('M')\n",
    "stocks['month_year'] = pd.to_datetime(stocks['month_year'].astype(str))\n",
    "stocks = stocks.drop('Date', axis = 1)\n",
    "stocks = pd.DataFrame(stocks.groupby('month_year').mean())\n",
    "stocks.columns = stocks.columns.droplevel(0)\n",
    "stocks.reset_index(inplace = True)"
   ]
  },
  {
   "cell_type": "code",
   "execution_count": 488,
   "metadata": {},
   "outputs": [
    {
     "data": {
      "text/plain": [
       "\"\\nmult_df = pd.DataFrame()\\n    for col1, col2 in zip(sampled_weights_df.columns, div_df.columns):\\n        mult_df[col1.replace('w', 'return')] = sampled_weights_df[col1]*div_df[col2]\\n\""
      ]
     },
     "execution_count": 488,
     "metadata": {},
     "output_type": "execute_result"
    }
   ],
   "source": [
    "def samplePortfolioWeights(n_stocks, n_rows):\n",
    "    \"\"\"\n",
    "    \"\"\"\n",
    "    sampled_weights_df = pd.DataFrame(np.random.dirichlet(np.ones(n_stocks),size=n_rows))\n",
    "    sampled_weights_df.columns = ['ABEV3.SA', 'BBDC3.SA', 'CMIG3.SA', 'ELET3.SA',\n",
    "                                   'EMBR3.SA', 'GGBR3.SA', 'ITSA3.SA', 'ITUB3.SA',\n",
    "                                   'OIBR3.SA', 'PETR3.SA', 'USIM3.SA', 'VALE3.SA',\n",
    "                                   'VIVT3.SA']\n",
    "    return sampled_weights_df\n",
    "\n",
    "def iterateRows(funds_df, ibov_series, stocks_df):\n",
    "    \"\"\"\n",
    "    \"\"\"\n",
    "    # Fix ibov_df\n",
    "    ibov_df = pd.DataFrame(ibov_series).reset_index()\n",
    "    ibov_df['month_year'] = pd.to_datetime(ibov_df['month_year'].astype(str))\n",
    "    \n",
    "    p_vals = []\n",
    "    for index, row in funds_df.iterrows():\n",
    "        p_val = computePValue(row, ibov_df, stocks_df)\n",
    "        p_vals.append(p_val)\n",
    "    #funds_df.iloc[:10]['p_vals'] = p_vals\n",
    "    return p_vals\n",
    "\n",
    "\n",
    "def computePValue(row_df, ibov_df, stocks_df):\n",
    "    \"\"\"\n",
    "    \"\"\"\n",
    "    first_date = row_df['first_value']\n",
    "    mean_monthly_selic = row_df['mean_monthly_selic'] \n",
    "    mean_monthly_ibov = row_df['mean_monthly_ibov']\n",
    "    alpha = row_df['alpha']\n",
    "    \n",
    "    sampled_weights_df = samplePortfolioWeights(13, 1000)\n",
    "    sampled_weights_df = computeBeta(sampled_weights_df, first_date, ibov_df, stocks_df)\n",
    "    # Compute alpha distribution\n",
    "    sampled_weights_df['mean_monthly_selic'] = mean_monthly_selic\n",
    "    sampled_weights_df['mean_monthly_ibov'] = mean_monthly_ibov\n",
    "    sampled_weights_df['alpha'] = sampled_weights_df['mean_monthly_return_portfolio'] - sampled_weights_df['mean_monthly_selic'] -  sampled_weights_df['beta']*(sampled_weights_df['mean_monthly_ibov'] - sampled_weights_df['mean_monthly_selic'])\n",
    "    # Compute p-value\n",
    "    p_val = np.mean(alpha >= sampled_weights_df['alpha'])\n",
    "    return p_val\n",
    "\n",
    "def computeBeta(sample_weights_df, first_date, ibov_df, stocks_df):\n",
    "    # Make this \n",
    "    \"\"\" \"\"\"\n",
    "    mean_monthly_return_portfolio_array = []\n",
    "    beta_array = []\n",
    "    \n",
    "\n",
    "    std_m = np.std(ibov_df[ibov_df.month_year >= first_date]['Open'])\n",
    "    for i, row in sample_weights_df.iterrows():\n",
    "        # Compute r_e for each synthetic porfolio\n",
    "        total_return_df = stocks_df[stocks_df.month_year >= first_date].drop('month_year', axis = 1).dot(sampled_weights_df.iloc[i:i+1,:].T)\n",
    "        monthly_return_df = total_return_df/total_return_df.shift(1) - 1\n",
    "        monthly_return_df.columns = ['monthly_return']\n",
    "        mean_monthly_return_portfolio = monthly_return_df['monthly_return'].mean()\n",
    "        corr_e_m = np.corrcoef(ma.masked_invalid(monthly_return_df[1:]['monthly_return']),ma.masked_invalid(ibov_df[ibov_df.month_year > first_date][1:]['Open']))[0][1]\n",
    "        std_e = np.std(monthly_return_df['monthly_return'])\n",
    "        beta = corr_e_m*std_e/std_m\n",
    "        mean_monthly_return_portfolio_array.append(mean_monthly_return_portfolio)\n",
    "        beta_array.append(beta)\n",
    "    \n",
    "    sample_weights_df['beta'] = beta_array\n",
    "    sample_weights_df['mean_monthly_return_portfolio'] = mean_monthly_return_portfolio_array\n",
    "    \n",
    "    return sample_weights_df\n",
    "\n",
    "# add rf and rm to the sample_weights_df and the compute alpha\n",
    "\n",
    "'''\n",
    "mult_df = pd.DataFrame()\n",
    "    for col1, col2 in zip(sampled_weights_df.columns, div_df.columns):\n",
    "        mult_df[col1.replace('w', 'return')] = sampled_weights_df[col1]*div_df[col2]\n",
    "'''\n",
    "    "
   ]
  },
  {
   "cell_type": "code",
   "execution_count": 497,
   "metadata": {},
   "outputs": [],
   "source": [
    "pval_dist = iterateRows(fundos, df_ibov, stocks)"
   ]
  },
  {
   "cell_type": "code",
   "execution_count": 547,
   "metadata": {},
   "outputs": [],
   "source": [
    "plt.style.use('fivethirtyeight')"
   ]
  },
  {
   "cell_type": "code",
   "execution_count": 548,
   "metadata": {},
   "outputs": [
    {
     "data": {
      "text/plain": [
       "Text(0, 0.5, 'Density')"
      ]
     },
     "execution_count": 548,
     "metadata": {},
     "output_type": "execute_result"
    },
    {
     "data": {
      "image/png": "[encoded data removed]",
      "text/plain": [
       "<Figure size 576x396 with 1 Axes>"
      ]
     },
     "metadata": {},
     "output_type": "display_data"
    }
   ],
   "source": [
    "plt.hist(pval_dist, density = True)\n",
    "plt.title(\"Distribution of p-values of real alphas\")\n",
    "plt.xlabel(\"p values\")\n",
    "plt.ylabel(\"Density\")"
   ]
  },
  {
   "cell_type": "markdown",
   "metadata": {},
   "source": [
    "# Old Code"
   ]
  },
  {
   "cell_type": "code",
   "execution_count": 1,
   "metadata": {
    "collapsed": true
   },
   "outputs": [
    {
     "ename": "SyntaxError",
     "evalue": "EOL while scanning string literal (<ipython-input-1-85e61b5e6f48>, line 20)",
     "output_type": "error",
     "traceback": [
      "\u001b[1;36m  File \u001b[1;32m\"<ipython-input-1-85e61b5e6f48>\"\u001b[1;36m, line \u001b[1;32m20\u001b[0m\n\u001b[1;33m    ''''\u001b[0m\n\u001b[1;37m        \n^\u001b[0m\n\u001b[1;31mSyntaxError\u001b[0m\u001b[1;31m:\u001b[0m EOL while scanning string literal\n"
     ]
    }
   ],
   "source": [
    "'''\n",
    "# Get initial and ending stock price for each of the stocks in the Ibov index 2002\n",
    "tolerance = pd.Timedelta('1W')\n",
    "fundos = fundos.sort_values('first_value')\n",
    "fundos = pd.merge_asof(fundos, stocks[\"Adj Close\"], left_on = 'first_value', right_on = 'Date', tolerance=tolerance).drop('Date', axis = 1)\n",
    "fundos = fundos.sort_values('last_value')\n",
    "fundos = pd.merge_asof(fundos, stocks[\"Adj Close\"], left_on = 'last_value', right_on = 'Date', suffixes = ('_start', '_end'), tolerance=tolerance)\n",
    "# Divide ending stock price by initial stock price\n",
    "fundos = fundos.set_index('CNPJ_FUNDO')\n",
    "initial_price = fundos.filter(like = 'start')\n",
    "ending_price = fundos.filter(like = 'end')\n",
    "division_df = pd.DataFrame()\n",
    "for col1, col2 in zip(initial_price.columns, ending_price.columns):\n",
    "    division_df[col1.replace(\"start\", \"div\")] = ending_price[col2] / initial_price[col1]\n",
    "# Remove start and end prices of stocks\n",
    "fundos = fundos[fundos.columns.drop(list(fundos.filter(regex='start')))]\n",
    "fundos = fundos[fundos.columns.drop(list(fundos.filter(regex='end')))]\n",
    "# Add div prices\n",
    "fundos = fundos.merge(division_df, left_index = True, right_index = True).drop('Date', axis = 1)\n",
    "''''"
   ]
  },
  {
   "cell_type": "markdown",
   "metadata": {},
   "source": [
    "To Dos:\n",
    "- Idea: test for folded normal\n",
    "- Read more from the literature on censored data and EMH\n",
    "- Review and write down all reasons why funds were excluded\n",
    "- Check Sharpe ratios are correct using software"
   ]
  },
  {
   "cell_type": "code",
   "execution_count": null,
   "metadata": {},
   "outputs": [],
   "source": [
    "Post:\n",
    "    - Explain Kaplan-Meier and Nelson-Aalen\n",
    "    - Explain Survivorship bias\n",
    "    - Explain Sharpe Ratio and why I chose it\n",
    "    - Explain idea of portfolio simulation\n",
    "    - Explain multiple test correction\n",
    "    - Explain why restrict to FIAs"
   ]
  }
 ],
 "metadata": {
  "kernelspec": {
   "display_name": "Python 3",
   "language": "python",
   "name": "python3"
  },
  "language_info": {
   "codemirror_mode": {
    "name": "ipython",
    "version": 3
   },
   "file_extension": ".py",
   "mimetype": "text/x-python",
   "name": "python",
   "nbconvert_exporter": "python",
   "pygments_lexer": "ipython3",
   "version": "3.8.3"
  },
  "latex_envs": {
   "LaTeX_envs_menu_present": true,
   "autoclose": false,
   "autocomplete": true,
   "bibliofile": "biblio.bib",
   "cite_by": "apalike",
   "current_citInitial": 1,
   "eqLabelWithNumbers": true,
   "eqNumInitial": 1,
   "hotkeys": {
    "equation": "Ctrl-E",
    "itemize": "Ctrl-I"
   },
   "labels_anchors": false,
   "latex_user_defs": false,
   "report_style_numbering": false,
   "user_envs_cfg": false
  },
  "toc": {
   "base_numbering": 1,
   "nav_menu": {},
   "number_sections": true,
   "sideBar": true,
   "skip_h1_title": false,
   "title_cell": "Table of Contents",
   "title_sidebar": "Contents",
   "toc_cell": false,
   "toc_position": {},
   "toc_section_display": true,
   "toc_window_display": true
  }
 },
 "nbformat": 4,
 "nbformat_minor": 4
}
